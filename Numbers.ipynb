{
 "cells": [
  {
   "cell_type": "code",
   "execution_count": 5,
   "id": "06ad4e4d",
   "metadata": {},
   "outputs": [
    {
     "name": "stdout",
     "output_type": "stream",
     "text": [
      "data shape:  (1797, 64)\n",
      "images shape:  (1797, 8, 8)\n",
      "target shape:  (1797,)\n"
     ]
    }
   ],
   "source": [
    "from sklearn.datasets import load_digits\n",
    "\n",
    "dataset = load_digits()\n",
    "\n",
    "data = dataset.data\n",
    "image = dataset.images\n",
    "target = dataset.target\n",
    "\n",
    "print('data shape: ' , data.shape)\n",
    "print('images shape: ', image.shape)\n",
    "print('target shape: ', target.shape)"
   ]
  },
  {
   "cell_type": "code",
   "execution_count": 13,
   "id": "a66f2000",
   "metadata": {},
   "outputs": [
    {
     "data": {
      "text/plain": [
       "<matplotlib.image.AxesImage at 0x1de2987c430>"
      ]
     },
     "execution_count": 13,
     "metadata": {},
     "output_type": "execute_result"
    },
    {
     "data": {
      "image/png": "[encoded data removed]",
      "text/plain": [
       "<Figure size 640x480 with 1 Axes>"
      ]
     },
     "metadata": {},
     "output_type": "display_data"
    }
   ],
   "source": [
    "from matplotlib import pyplot as plt\n",
    "\n",
    "plt.imshow(image[1] , cmap = 'gray')"
   ]
  },
  {
   "cell_type": "code",
   "execution_count": 12,
   "id": "8e232c91",
   "metadata": {},
   "outputs": [
    {
     "name": "stdout",
     "output_type": "stream",
     "text": [
      "[[ 0.  0.  0. 12. 13.  5.  0.  0.]\n",
      " [ 0.  0.  0. 11. 16.  9.  0.  0.]\n",
      " [ 0.  0.  3. 15. 16.  6.  0.  0.]\n",
      " [ 0.  7. 15. 16. 16.  2.  0.  0.]\n",
      " [ 0.  0.  1. 16. 16.  3.  0.  0.]\n",
      " [ 0.  0.  1. 16. 16.  6.  0.  0.]\n",
      " [ 0.  0.  1. 16. 16.  6.  0.  0.]\n",
      " [ 0.  0.  0. 11. 16. 10.  0.  0.]]\n"
     ]
    }
   ],
   "source": [
    "print(image[1] )\n",
    "# gray value is 0 - 255\n",
    "# 0 - black\n",
    "# 255 - white"
   ]
  },
  {
   "cell_type": "code",
   "execution_count": 14,
   "id": "c9042ab3",
   "metadata": {},
   "outputs": [
    {
     "name": "stdout",
     "output_type": "stream",
     "text": [
      "[ 0.  0.  5. 13.  9.  1.  0.  0.  0.  0. 13. 15. 10. 15.  5.  0.  0.  3.\n",
      " 15.  2.  0. 11.  8.  0.  0.  4. 12.  0.  0.  8.  8.  0.  0.  5.  8.  0.\n",
      "  0.  9.  8.  0.  0.  4. 11.  0.  1. 12.  7.  0.  0.  2. 14.  5. 10. 12.\n",
      "  0.  0.  0.  0.  6. 13. 10.  0.  0.  0.]\n"
     ]
    }
   ],
   "source": [
    "print(data[0])"
   ]
  },
  {
   "cell_type": "code",
   "execution_count": 18,
   "id": "a1287df9",
   "metadata": {},
   "outputs": [
    {
     "name": "stdout",
     "output_type": "stream",
     "text": [
      "0\n"
     ]
    }
   ],
   "source": [
    "print(target[1002])"
   ]
  },
  {
   "cell_type": "code",
   "execution_count": 21,
   "id": "bda9df8a",
   "metadata": {},
   "outputs": [],
   "source": [
    "# splitting the data for training and testing\n",
    "from  sklearn.model_selection import train_test_split\n",
    "\n",
    "data_train , data_test , target_train , target_test = train_test_split(data,target, test_size = 0.2)"
   ]
  },
  {
   "cell_type": "code",
   "execution_count": 22,
   "id": "caf5c00d",
   "metadata": {},
   "outputs": [
    {
     "data": {
      "text/plain": [
       "KNeighborsClassifier()"
      ]
     },
     "execution_count": 22,
     "metadata": {},
     "output_type": "execute_result"
    }
   ],
   "source": [
    "# selecting an algorithm and training the data\n",
    "from sklearn.neighbors import KNeighborsClassifier\n",
    "\n",
    "# assigning object called model\n",
    "model = KNeighborsClassifier()\n",
    "\n",
    "# training the 80% of dataset\n",
    "model.fit(data_train , target_train)"
   ]
  },
  {
   "cell_type": "code",
   "execution_count": 25,
   "id": "b95d1d15",
   "metadata": {},
   "outputs": [
    {
     "name": "stdout",
     "output_type": "stream",
     "text": [
      "(1437, 64)\n",
      "(360, 64)\n"
     ]
    }
   ],
   "source": [
    "print(data_train.shape)\n",
    "print( data_test.shape)"
   ]
  },
  {
   "cell_type": "code",
   "execution_count": 29,
   "id": "9e18aa53",
   "metadata": {},
   "outputs": [
    {
     "name": "stdout",
     "output_type": "stream",
     "text": [
      "Predicted target [2 7 4 1 6 7 2 4 0 3 4 3 7 9 9 2 3 0 2 6 0 6 8 9 7 4 2 7 3 4 8 8 7 4 0 1 4\n",
      " 4 5 3 5 1 4 6 5 5 3 4 1 9 5 0 9 6 0 1 7 2 1 9 0 6 9 4 1 7 9 7 4 6 5 3 7 7\n",
      " 3 5 0 6 3 4 7 1 2 4 1 3 4 6 6 4 5 8 2 3 3 7 0 0 9 5 3 1 3 0 7 2 3 6 0 8 5\n",
      " 2 5 1 2 6 7 2 5 9 7 5 6 8 1 9 9 7 0 1 2 1 4 6 5 0 6 8 2 5 1 3 0 3 5 1 3 4\n",
      " 9 3 2 4 0 8 7 3 6 4 2 8 3 9 0 5 5 8 7 2 6 6 4 3 1 0 7 9 1 3 2 4 2 1 0 8 7\n",
      " 0 9 6 0 6 3 0 5 8 7 8 5 8 3 6 6 7 5 6 6 1 8 5 1 7 2 0 5 4 5 0 3 3 9 0 1 3\n",
      " 6 8 9 4 5 6 4 3 6 4 9 8 1 1 7 3 4 3 6 6 7 3 1 0 3 5 0 7 6 5 5 4 0 4 9 6 9\n",
      " 6 7 9 8 4 8 5 1 0 5 9 3 5 6 5 8 0 8 6 9 3 8 5 2 8 6 2 2 3 0 7 6 4 0 1 5 8\n",
      " 5 6 6 2 1 4 0 3 6 8 3 9 9 8 2 5 0 2 7 6 6 3 4 4 4 2 9 1 7 1 8 1 2 5 7 8 0\n",
      " 1 7 2 9 5 8 2 4 5 7 3 6 2 7 2 0 4 3 0 9 4 7 4 3 7 4 3]\n",
      "Actual target [2 7 4 8 6 7 2 4 0 3 4 3 7 9 9 2 3 0 2 6 0 6 8 9 7 4 2 7 3 4 8 8 7 4 0 1 4\n",
      " 4 5 3 5 1 4 6 5 5 3 4 1 9 5 0 9 6 0 1 7 2 1 9 0 6 9 4 1 7 9 7 4 6 5 3 7 7\n",
      " 3 5 0 6 3 4 7 1 2 4 1 3 4 6 6 4 5 8 2 3 3 7 0 0 9 5 3 1 3 0 7 2 3 6 0 8 5\n",
      " 2 5 1 2 6 7 2 5 9 7 5 6 8 1 9 9 7 0 1 2 1 4 8 5 0 6 8 2 5 1 3 0 3 5 1 3 4\n",
      " 9 3 2 4 0 8 7 3 6 4 2 8 3 9 0 5 5 8 7 2 6 6 4 3 1 0 7 9 1 3 2 4 2 1 0 8 7\n",
      " 0 9 6 0 6 3 0 5 8 7 8 5 8 3 6 6 7 5 6 6 1 8 5 1 7 2 0 5 4 5 0 3 3 9 0 1 3\n",
      " 6 8 9 4 5 6 4 3 6 4 9 8 1 1 7 3 4 3 6 6 7 3 1 0 3 5 0 7 6 5 5 4 0 4 9 6 9\n",
      " 6 7 7 8 4 8 5 1 0 5 9 3 5 6 5 8 0 8 6 3 3 8 5 2 8 6 2 2 3 0 7 6 4 0 1 5 8\n",
      " 5 6 6 2 1 4 0 3 6 8 3 9 9 8 2 5 0 2 7 6 6 3 4 4 4 2 9 1 7 1 8 1 2 5 7 8 0\n",
      " 1 7 2 9 5 8 2 4 5 7 3 6 2 7 2 0 4 3 0 9 4 7 4 3 7 4 3]\n"
     ]
    },
    {
     "name": "stderr",
     "output_type": "stream",
     "text": [
      "C:\\ProgramData\\Anaconda3\\lib\\site-packages\\sklearn\\neighbors\\_classification.py:228: FutureWarning: Unlike other reduction functions (e.g. `skew`, `kurtosis`), the default behavior of `mode` typically preserves the axis it acts along. In SciPy 1.11.0, this behavior will change: the default value of `keepdims` will become False, the `axis` over which the statistic is taken will be eliminated, and the value None will no longer be accepted. Set `keepdims` to True or False to avoid this warning.\n",
      "  mode, _ = stats.mode(_y[neigh_ind, k], axis=1)\n"
     ]
    }
   ],
   "source": [
    "# after training now apply the test data and get prediction\n",
    "predicted_target = model.predict(data_test)\n",
    "\n",
    "print('Predicted target' , predicted_target )\n",
    "print('Actual target' ,  target_test )"
   ]
  },
  {
   "cell_type": "code",
   "execution_count": 30,
   "id": "dffdda35",
   "metadata": {},
   "outputs": [
    {
     "name": "stdout",
     "output_type": "stream",
     "text": [
      "0.9888888888888889\n"
     ]
    }
   ],
   "source": [
    "from sklearn.metrics import accuracy_score\n",
    "accuracy = accuracy_score(target_test , predicted_target)\n",
    "print(accuracy)"
   ]
  },
  {
   "cell_type": "code",
   "execution_count": 33,
   "id": "f402da77",
   "metadata": {},
   "outputs": [
    {
     "data": {
      "text/plain": [
       "['KNN-digits.sav']"
      ]
     },
     "execution_count": 33,
     "metadata": {},
     "output_type": "execute_result"
    }
   ],
   "source": [
    "import joblib\n",
    "\n",
    "joblib.dump(model ,'KNN-digits.sav')"
   ]
  },
  {
   "cell_type": "code",
   "execution_count": null,
   "id": "d264b80e",
   "metadata": {},
   "outputs": [],
   "source": []
  }
 ],
 "metadata": {
  "kernelspec": {
   "display_name": "Python 3 (ipykernel)",
   "language": "python",
   "name": "python3"
  },
  "language_info": {
   "codemirror_mode": {
    "name": "ipython",
    "version": 3
   },
   "file_extension": ".py",
   "mimetype": "text/x-python",
   "name": "python",
   "nbconvert_exporter": "python",
   "pygments_lexer": "ipython3",
   "version": "3.9.13"
  }
 },
 "nbformat": 4,
 "nbformat_minor": 5
}
